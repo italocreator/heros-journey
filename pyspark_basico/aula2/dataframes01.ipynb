{
  "cells": [
    {
      "cell_type": "code",
      "execution_count": 6,
      "metadata": {
        "colab": {
          "base_uri": "https://localhost:8080/"
        },
        "id": "lrS5aO2FTJeO",
        "outputId": "73520a5f-faa2-48c1-9cde-c7ef9f489e75"
      },
      "outputs": [
        {
          "name": "stdout",
          "output_type": "stream",
          "text": [
            "+-----+---+\n",
            "|   _1| _2|\n",
            "+-----+---+\n",
            "|Pedro| 10|\n",
            "|Maria| 20|\n",
            "| José| 40|\n",
            "+-----+---+\n",
            "\n"
          ]
        }
      ],
      "source": [
        "#criar um data frame simples, sem schema\n",
        "from pyspark.sql import SparkSession\n",
        "df1 = spark.createDataFrame([(\"Pedro\",10),(\"Maria\",20),(\"José\",40)])\n",
        "df1.show()"
      ]
    },
    {
      "cell_type": "code",
      "execution_count": 7,
      "metadata": {
        "colab": {
          "base_uri": "https://localhost:8080/"
        },
        "id": "Fb2Ggz4dTQhr",
        "outputId": "7461bf3c-d705-4e5b-9448-8353616177b7"
      },
      "outputs": [
        {
          "name": "stdout",
          "output_type": "stream",
          "text": [
            "+---+-----+\n",
            "| Id| Nome|\n",
            "+---+-----+\n",
            "|  1|Pedro|\n",
            "|  2|Maria|\n",
            "+---+-----+\n",
            "\n"
          ]
        }
      ],
      "source": [
        "#criar df com schema\n",
        "schema = \"Id INT, Nome STRING\"\n",
        "dados = [[1,\"Pedro\"],[2,\"Maria\"]]\n",
        "df2 = spark.createDataFrame(dados, schema)\n",
        "df2.show()"
      ]
    },
    {
      "cell_type": "code",
      "execution_count": 8,
      "metadata": {
        "colab": {
          "base_uri": "https://localhost:8080/"
        },
        "id": "Awqv8UbxTVq2",
        "outputId": "c4baffc8-a130-4394-8b6f-d96f19894d63"
      },
      "outputs": [
        {
          "name": "stdout",
          "output_type": "stream",
          "text": [
            "+--------+------+\n",
            "|Produtos|Vendas|\n",
            "+--------+------+\n",
            "|  Caneta|    10|\n",
            "+--------+------+\n",
            "only showing top 1 row\n",
            "\n"
          ]
        }
      ],
      "source": [
        "#com transformação\n",
        "from pyspark.sql.functions import sum\n",
        "schema2 = \"Produtos STRING, Vendas INT\"\n",
        "vendas = [[\"Caneta\",10],[\"Lápis\",20],[\"Caneta\",40]]\n",
        "df3 = spark.createDataFrame(vendas , schema2 )\n",
        "df3.show(1)\n"
      ]
    },
    {
      "cell_type": "code",
      "execution_count": 38,
      "metadata": {
        "colab": {
          "base_uri": "https://localhost:8080/"
        },
        "id": "PWhgbb4oTYSf",
        "outputId": "27e8fcad-6a8b-4675-ae44-cf370e7b8069"
      },
      "outputs": [
        {
          "name": "stdout",
          "output_type": "stream",
          "text": [
            "+--------+-----------+\n",
            "|Produtos|sum(Vendas)|\n",
            "+--------+-----------+\n",
            "|  Caneta|         50|\n",
            "|   Lápis|         20|\n",
            "+--------+-----------+\n",
            "\n"
          ]
        }
      ],
      "source": [
        "agrupado = df3.groupBy(\"Produtos\").agg(sum(\"Vendas\"))\n",
        "agrupado.show()"
      ]
    },
    {
      "cell_type": "code",
      "execution_count": 10,
      "metadata": {
        "colab": {
          "base_uri": "https://localhost:8080/"
        },
        "id": "n_n9hqi8x9k8",
        "outputId": "89484624-4209-4f76-c1b1-13baa9256ca2"
      },
      "outputs": [
        {
          "name": "stdout",
          "output_type": "stream",
          "text": [
            "+--------+-----------+\n",
            "|Produtos|sum(Vendas)|\n",
            "+--------+-----------+\n",
            "|  Caneta|         50|\n",
            "|   Lápis|         20|\n",
            "+--------+-----------+\n",
            "\n"
          ]
        }
      ],
      "source": [
        "#concatenar operações, sem persitir\n",
        "df3.groupBy(\"Produtos\").agg(sum(\"Vendas\")).show()"
      ]
    },
    {
      "cell_type": "code",
      "execution_count": 11,
      "metadata": {
        "colab": {
          "base_uri": "https://localhost:8080/"
        },
        "id": "KGpDqO6TyBYt",
        "outputId": "0c60be04-f038-4819-f113-15e14672f1f2"
      },
      "outputs": [
        {
          "name": "stdout",
          "output_type": "stream",
          "text": [
            "+--------+\n",
            "|Produtos|\n",
            "+--------+\n",
            "|  Caneta|\n",
            "|   Lápis|\n",
            "|  Caneta|\n",
            "+--------+\n",
            "\n",
            "+--------+------+\n",
            "|Produtos|Vendas|\n",
            "+--------+------+\n",
            "|  Caneta|    10|\n",
            "|   Lápis|    20|\n",
            "|  Caneta|    40|\n",
            "+--------+------+\n",
            "\n"
          ]
        }
      ],
      "source": [
        "#selecionar colunas específicas\n",
        "df3.select(\"Produtos\").show()\n",
        "df3.select(\"Produtos\",\"Vendas\").show()"
      ]
    },
    {
      "cell_type": "code",
      "execution_count": 12,
      "metadata": {
        "colab": {
          "base_uri": "https://localhost:8080/"
        },
        "id": "4FobHno8yDLq",
        "outputId": "105affcf-41b1-4c84-be89-2f1844799547"
      },
      "outputs": [
        {
          "name": "stdout",
          "output_type": "stream",
          "text": [
            "+--------+------+--------------+\n",
            "|Produtos|Vendas|(Vendas * 0.2)|\n",
            "+--------+------+--------------+\n",
            "|  Caneta|    10|           2.0|\n",
            "|   Lápis|    20|           4.0|\n",
            "|  Caneta|    40|           8.0|\n",
            "+--------+------+--------------+\n",
            "\n"
          ]
        }
      ],
      "source": [
        "#expressões e select\n",
        "from pyspark.sql.functions import expr\n",
        "df3.select(\"Produtos\", \"Vendas\", expr(\"Vendas * 0.2\")).show()"
      ]
    },
    {
      "cell_type": "code",
      "execution_count": 13,
      "metadata": {
        "colab": {
          "base_uri": "https://localhost:8080/"
        },
        "id": "UFCactFhyFHx",
        "outputId": "446fcc38-47bf-40b3-aa17-f4c94ddadccb"
      },
      "outputs": [
        {
          "data": {
            "text/plain": [
              "StructType(List(StructField(Produtos,StringType,true),StructField(Vendas,IntegerType,true)))"
            ]
          },
          "execution_count": 13,
          "metadata": {},
          "output_type": "execute_result"
        }
      ],
      "source": [
        "#Exibir o schema\n",
        "df3.schema"
      ]
    },
    {
      "cell_type": "code",
      "execution_count": 14,
      "metadata": {
        "colab": {
          "base_uri": "https://localhost:8080/"
        },
        "id": "BMoQjiXNyHTA",
        "outputId": "0300fd80-b2ff-4fb0-b2e1-94912d92a725"
      },
      "outputs": [
        {
          "data": {
            "text/plain": [
              "['Produtos', 'Vendas']"
            ]
          },
          "execution_count": 14,
          "metadata": {},
          "output_type": "execute_result"
        }
      ],
      "source": [
        "#Exibir colunas\n",
        "df3.columns"
      ]
    },
    {
      "cell_type": "code",
      "execution_count": 15,
      "metadata": {
        "colab": {
          "base_uri": "https://localhost:8080/"
        },
        "id": "PrSBgFO6yJtv",
        "outputId": "bef435d1-7041-40a6-a02f-97a4bb7dca62"
      },
      "outputs": [
        {
          "name": "stdout",
          "output_type": "stream",
          "text": [
            "+---+-------------------+------+-------------+------+----------+\n",
            "| id|               nome|status|       cidade|vendas|      data|\n",
            "+---+-------------------+------+-------------+------+----------+\n",
            "|  1|   Carminda Pestana| Ativo|  Santa Maria|    23|2020-08-11|\n",
            "|  2|    Deolinda Vilela| Ativo|Novo Hamburgo|    34|2020-03-05|\n",
            "|  3|   Emídio Dornelles| Ativo| Porto Alegre|    34|2020-02-05|\n",
            "|  4|Felisbela Dornelles| Ativo| Porto Alegre|    36|2020-02-05|\n",
            "|  5|     Graça Ornellas| Ativo| Porto Alegre|    12|2020-02-05|\n",
            "|  6|   Matilde Rebouças| Ativo| Porto Alegre|    22|2019-01-05|\n",
            "|  7|    Noêmia   Orriça| Ativo|  Santa Maria|    45|2019-10-05|\n",
            "|  8|      Roque Vásquez| Ativo| Porto Alegre|    65|2020-03-05|\n",
            "|  9|      Uriel Queiroz| Ativo| Porto Alegre|    54|2018-05-05|\n",
            "| 10|   Viviana Sequeira| Ativo| Porto Alegre|     0|2020-09-05|\n",
            "+---+-------------------+------+-------------+------+----------+\n",
            "\n"
          ]
        }
      ],
      "source": [
        "#importar dados definindo schema\n",
        "from pyspark.sql.types import *\n",
        "\n",
        "arqschema = \"id INT, nome STRING, status STRING, cidade STRING, vendas INT, data STRING\"\n",
        "despachantes = spark.read.csv(\"/content/despachantes.csv\", header=False, schema=arqschema)\n",
        "despachantes.show()"
      ]
    },
    {
      "cell_type": "code",
      "execution_count": 16,
      "metadata": {
        "colab": {
          "base_uri": "https://localhost:8080/"
        },
        "id": "JXxnwkEjyM9-",
        "outputId": "6b4c18ca-a6fc-4e39-9057-b2dc4064f1a4"
      },
      "outputs": [
        {
          "name": "stdout",
          "output_type": "stream",
          "text": [
            "+---+-------------------+-----+-------------+---+----------+\n",
            "|_c0|                _c1|  _c2|          _c3|_c4|       _c5|\n",
            "+---+-------------------+-----+-------------+---+----------+\n",
            "|  1|   Carminda Pestana|Ativo|  Santa Maria| 23|2020-08-11|\n",
            "|  2|    Deolinda Vilela|Ativo|Novo Hamburgo| 34|2020-03-05|\n",
            "|  3|   Emídio Dornelles|Ativo| Porto Alegre| 34|2020-02-05|\n",
            "|  4|Felisbela Dornelles|Ativo| Porto Alegre| 36|2020-02-05|\n",
            "|  5|     Graça Ornellas|Ativo| Porto Alegre| 12|2020-02-05|\n",
            "|  6|   Matilde Rebouças|Ativo| Porto Alegre| 22|2019-01-05|\n",
            "|  7|    Noêmia   Orriça|Ativo|  Santa Maria| 45|2019-10-05|\n",
            "|  8|      Roque Vásquez|Ativo| Porto Alegre| 65|2020-03-05|\n",
            "|  9|      Uriel Queiroz|Ativo| Porto Alegre| 54|2018-05-05|\n",
            "| 10|   Viviana Sequeira|Ativo| Porto Alegre|  0|2020-09-05|\n",
            "+---+-------------------+-----+-------------+---+----------+\n",
            "\n"
          ]
        }
      ],
      "source": [
        "#usando load e informado tipo\n",
        "desp_autoschema = spark.read.load(\"/content/despachantes.csv\",\n",
        "                     format=\"csv\", sep=\",\", inferSchema=True, header=False)\n",
        "desp_autoschema.show()\n"
      ]
    },
    {
      "cell_type": "code",
      "execution_count": 22,
      "metadata": {
        "colab": {
          "base_uri": "https://localhost:8080/"
        },
        "id": "WfTrLjUcyOc_",
        "outputId": "468826cc-c078-4892-fdd3-8c5e0e63dd3c"
      },
      "outputs": [
        {
          "data": {
            "text/plain": [
              "StructType(List(StructField(id,IntegerType,true),StructField(nome,StringType,true),StructField(status,StringType,true),StructField(cidade,StringType,true),StructField(vendas,IntegerType,true),StructField(data,StringType,true)))"
            ]
          },
          "execution_count": 22,
          "metadata": {},
          "output_type": "execute_result"
        }
      ],
      "source": [
        "#comparando os schemas\n",
        "despachantes.schema"
      ]
    },
    {
      "cell_type": "code",
      "execution_count": 23,
      "metadata": {
        "colab": {
          "base_uri": "https://localhost:8080/"
        },
        "id": "y58aCPH2zUI9",
        "outputId": "917bd67b-f705-4441-e4d2-8bd038cb3880"
      },
      "outputs": [
        {
          "data": {
            "text/plain": [
              "StructType(List(StructField(_c0,IntegerType,true),StructField(_c1,StringType,true),StructField(_c2,StringType,true),StructField(_c3,StringType,true),StructField(_c4,IntegerType,true),StructField(_c5,StringType,true)))"
            ]
          },
          "execution_count": 23,
          "metadata": {},
          "output_type": "execute_result"
        }
      ],
      "source": [
        "#comparando os schemas\n",
        "desp_autoschema.schema"
      ]
    },
    {
      "cell_type": "code",
      "execution_count": 24,
      "metadata": {
        "colab": {
          "base_uri": "https://localhost:8080/"
        },
        "id": "1Cn9atlJyQOq",
        "outputId": "b80eb88c-e0b0-4de4-a78f-99f24adc5261"
      },
      "outputs": [
        {
          "name": "stdout",
          "output_type": "stream",
          "text": [
            "+---+-------------------+------+\n",
            "| id|               nome|vendas|\n",
            "+---+-------------------+------+\n",
            "|  1|   Carminda Pestana|    23|\n",
            "|  2|    Deolinda Vilela|    34|\n",
            "|  3|   Emídio Dornelles|    34|\n",
            "|  4|Felisbela Dornelles|    36|\n",
            "|  6|   Matilde Rebouças|    22|\n",
            "|  7|    Noêmia   Orriça|    45|\n",
            "|  8|      Roque Vásquez|    65|\n",
            "|  9|      Uriel Queiroz|    54|\n",
            "+---+-------------------+------+\n",
            "\n",
            "+---+-------------------+------+\n",
            "| id|               nome|vendas|\n",
            "+---+-------------------+------+\n",
            "|  1|   Carminda Pestana|    23|\n",
            "|  2|    Deolinda Vilela|    34|\n",
            "|  3|   Emídio Dornelles|    34|\n",
            "|  4|Felisbela Dornelles|    36|\n",
            "|  6|   Matilde Rebouças|    22|\n",
            "+---+-------------------+------+\n",
            "\n"
          ]
        }
      ],
      "source": [
        "from pyspark.sql import functions as Func\n",
        "\n",
        "#condição lógica com where\n",
        "despachantes.select(\"id\",\"nome\",\"vendas\").where(Func.col(\"vendas\") > 20).show()\n",
        "#& para and, | para or, e ~ para not\n",
        "despachantes.select(\"id\",\"nome\",\"vendas\").where((Func.col(\"vendas\") > 20) & (Func.col(\"vendas\") < 40)).show()"
      ]
    },
    {
      "cell_type": "code",
      "execution_count": 25,
      "metadata": {
        "colab": {
          "base_uri": "https://localhost:8080/"
        },
        "id": "JECS2Qo-yRjn",
        "outputId": "40e5f5bd-63f2-40e2-f000-bbe9dd4173fa"
      },
      "outputs": [
        {
          "data": {
            "text/plain": [
              "['id', 'nomes', 'status', 'cidade', 'vendas', 'data']"
            ]
          },
          "execution_count": 25,
          "metadata": {},
          "output_type": "execute_result"
        }
      ],
      "source": [
        "#renomear coluna\n",
        "novodf = despachantes.withColumnRenamed(\"nome\",\"nomes\")\n",
        "novodf.columns"
      ]
    },
    {
      "cell_type": "code",
      "execution_count": 26,
      "metadata": {
        "colab": {
          "base_uri": "https://localhost:8080/"
        },
        "id": "W1XxQxvRyS0O",
        "outputId": "4210b98b-bae3-49ba-8f96-37ee2bab67c8"
      },
      "outputs": [
        {
          "data": {
            "text/plain": [
              "StructType(List(StructField(id,IntegerType,true),StructField(nome,StringType,true),StructField(status,StringType,true),StructField(cidade,StringType,true),StructField(vendas,IntegerType,true),StructField(data,StringType,true),StructField(data2,TimestampType,true)))"
            ]
          },
          "execution_count": 26,
          "metadata": {},
          "output_type": "execute_result"
        }
      ],
      "source": [
        "from pyspark.sql.functions import *\n",
        "#Criando coluna data2 como timestamp para comparação\n",
        "despachantes2 = despachantes.withColumn(\"data2\", to_timestamp(Func.col(\"data\"),\"yyyy-MM-dd\"))\n",
        "despachantes2.schema\n"
      ]
    },
    {
      "cell_type": "code",
      "execution_count": 28,
      "metadata": {
        "colab": {
          "base_uri": "https://localhost:8080/"
        },
        "id": "0U6UNVYs0pi9",
        "outputId": "cb5d754c-6aaf-41cb-b8cf-1f0a37355045"
      },
      "outputs": [
        {
          "name": "stdout",
          "output_type": "stream",
          "text": [
            "+---+-------------------+------+-------------+------+----------+-------------------+\n",
            "| id|               nome|status|       cidade|vendas|      data|              data2|\n",
            "+---+-------------------+------+-------------+------+----------+-------------------+\n",
            "|  1|   Carminda Pestana| Ativo|  Santa Maria|    23|2020-08-11|2020-08-11 00:00:00|\n",
            "|  2|    Deolinda Vilela| Ativo|Novo Hamburgo|    34|2020-03-05|2020-03-05 00:00:00|\n",
            "|  3|   Emídio Dornelles| Ativo| Porto Alegre|    34|2020-02-05|2020-02-05 00:00:00|\n",
            "|  4|Felisbela Dornelles| Ativo| Porto Alegre|    36|2020-02-05|2020-02-05 00:00:00|\n",
            "|  5|     Graça Ornellas| Ativo| Porto Alegre|    12|2020-02-05|2020-02-05 00:00:00|\n",
            "|  6|   Matilde Rebouças| Ativo| Porto Alegre|    22|2019-01-05|2019-01-05 00:00:00|\n",
            "|  7|    Noêmia   Orriça| Ativo|  Santa Maria|    45|2019-10-05|2019-10-05 00:00:00|\n",
            "|  8|      Roque Vásquez| Ativo| Porto Alegre|    65|2020-03-05|2020-03-05 00:00:00|\n",
            "|  9|      Uriel Queiroz| Ativo| Porto Alegre|    54|2018-05-05|2018-05-05 00:00:00|\n",
            "| 10|   Viviana Sequeira| Ativo| Porto Alegre|     0|2020-09-05|2020-09-05 00:00:00|\n",
            "+---+-------------------+------+-------------+------+----------+-------------------+\n",
            "\n"
          ]
        }
      ],
      "source": [
        "despachantes2.show()"
      ]
    },
    {
      "cell_type": "code",
      "execution_count": 29,
      "metadata": {
        "colab": {
          "base_uri": "https://localhost:8080/"
        },
        "id": "mFxw70VjyUNa",
        "outputId": "07ea13af-ddde-4636-cddc-a56aa1d3b5db"
      },
      "outputs": [
        {
          "name": "stdout",
          "output_type": "stream",
          "text": [
            "+----------+\n",
            "|year(data)|\n",
            "+----------+\n",
            "|      2020|\n",
            "|      2020|\n",
            "|      2020|\n",
            "|      2020|\n",
            "|      2020|\n",
            "|      2019|\n",
            "|      2019|\n",
            "|      2020|\n",
            "|      2018|\n",
            "|      2020|\n",
            "+----------+\n",
            "\n",
            "+----------+\n",
            "|year(data)|\n",
            "+----------+\n",
            "|      2018|\n",
            "|      2019|\n",
            "|      2020|\n",
            "+----------+\n",
            "\n",
            "+-------------------+----------+\n",
            "|               nome|year(data)|\n",
            "+-------------------+----------+\n",
            "|   Carminda Pestana|      2020|\n",
            "|    Deolinda Vilela|      2020|\n",
            "|   Emídio Dornelles|      2020|\n",
            "|Felisbela Dornelles|      2020|\n",
            "|     Graça Ornellas|      2020|\n",
            "|   Matilde Rebouças|      2019|\n",
            "|    Noêmia   Orriça|      2019|\n",
            "|      Roque Vásquez|      2020|\n",
            "|      Uriel Queiroz|      2018|\n",
            "|   Viviana Sequeira|      2020|\n",
            "+-------------------+----------+\n",
            "\n",
            "+----------+-----+\n",
            "|year(data)|count|\n",
            "+----------+-----+\n",
            "|      2018|    1|\n",
            "|      2019|    2|\n",
            "|      2020|    7|\n",
            "+----------+-----+\n",
            "\n",
            "+-----------+\n",
            "|sum(vendas)|\n",
            "+-----------+\n",
            "|        325|\n",
            "+-----------+\n",
            "\n"
          ]
        }
      ],
      "source": [
        "#operações com datas\n",
        "despachantes2.select(year(\"data\")).show()\n",
        "despachantes2.select(year(\"data\")).distinct().show()\n",
        "despachantes2.select(\"nome\",year(\"data\")).orderBy(\"nome\").show()\n",
        "despachantes2.select(\"data\").groupBy(year(\"data\")).count().show()\n",
        "despachantes2.select(Func.sum(\"vendas\")).show()"
      ]
    },
    {
      "cell_type": "code",
      "execution_count": 30,
      "metadata": {
        "id": "oTw9bLuXyVjU"
      },
      "outputs": [],
      "source": [
        "#salvar em formatos diferentes\n",
        "despachantes.write.format(\"parquet\").save(\"/content/storage/dfimportparquet\")\n",
        "despachantes.write.format(\"csv\").save(\"/content/storage/dfimportcsv\")\n",
        "despachantes.write.format(\"json\").save(\"/content/storage/dfimportjson\")\n",
        "despachantes.write.format(\"orc\").save(\"/content/storage/dfimportorc\")"
      ]
    },
    {
      "cell_type": "code",
      "execution_count": 33,
      "metadata": {
        "colab": {
          "base_uri": "https://localhost:8080/"
        },
        "id": "mjgmUAqyyXGc",
        "outputId": "566a587f-c74f-4426-a2e8-222c66ce7287"
      },
      "outputs": [
        {
          "name": "stdout",
          "output_type": "stream",
          "text": [
            "+---+-------------------+------+-------------+------+----------+\n",
            "| id|               nome|status|       cidade|vendas|      data|\n",
            "+---+-------------------+------+-------------+------+----------+\n",
            "|  1|   Carminda Pestana| Ativo|  Santa Maria|    23|2020-08-11|\n",
            "|  2|    Deolinda Vilela| Ativo|Novo Hamburgo|    34|2020-03-05|\n",
            "|  3|   Emídio Dornelles| Ativo| Porto Alegre|    34|2020-02-05|\n",
            "|  4|Felisbela Dornelles| Ativo| Porto Alegre|    36|2020-02-05|\n",
            "|  5|     Graça Ornellas| Ativo| Porto Alegre|    12|2020-02-05|\n",
            "|  6|   Matilde Rebouças| Ativo| Porto Alegre|    22|2019-01-05|\n",
            "|  7|    Noêmia   Orriça| Ativo|  Santa Maria|    45|2019-10-05|\n",
            "|  8|      Roque Vásquez| Ativo| Porto Alegre|    65|2020-03-05|\n",
            "|  9|      Uriel Queiroz| Ativo| Porto Alegre|    54|2018-05-05|\n",
            "| 10|   Viviana Sequeira| Ativo| Porto Alegre|     0|2020-09-05|\n",
            "+---+-------------------+------+-------------+------+----------+\n",
            "\n"
          ]
        },
        {
          "data": {
            "text/plain": [
              "StructType(List(StructField(id,IntegerType,true),StructField(nome,StringType,true),StructField(status,StringType,true),StructField(cidade,StringType,true),StructField(vendas,IntegerType,true),StructField(data,StringType,true)))"
            ]
          },
          "execution_count": 33,
          "metadata": {},
          "output_type": "execute_result"
        }
      ],
      "source": [
        "#ler dados\n",
        "par = spark.read.format(\"parquet\").load(\"/content/storage/dfimportparquet\")\n",
        "par.show()\n",
        "par.schema"
      ]
    },
    {
      "cell_type": "code",
      "execution_count": 35,
      "metadata": {
        "colab": {
          "base_uri": "https://localhost:8080/"
        },
        "id": "yZPYuy_KyYbj",
        "outputId": "1d4772c7-a548-4c4a-b431-7a2cde3d911f"
      },
      "outputs": [
        {
          "name": "stdout",
          "output_type": "stream",
          "text": [
            "+-------------+----------+---+-------------------+------+------+\n",
            "|       cidade|      data| id|               nome|status|vendas|\n",
            "+-------------+----------+---+-------------------+------+------+\n",
            "|  Santa Maria|2020-08-11|  1|   Carminda Pestana| Ativo|    23|\n",
            "|Novo Hamburgo|2020-03-05|  2|    Deolinda Vilela| Ativo|    34|\n",
            "| Porto Alegre|2020-02-05|  3|   Emídio Dornelles| Ativo|    34|\n",
            "| Porto Alegre|2020-02-05|  4|Felisbela Dornelles| Ativo|    36|\n",
            "| Porto Alegre|2020-02-05|  5|     Graça Ornellas| Ativo|    12|\n",
            "| Porto Alegre|2019-01-05|  6|   Matilde Rebouças| Ativo|    22|\n",
            "|  Santa Maria|2019-10-05|  7|    Noêmia   Orriça| Ativo|    45|\n",
            "| Porto Alegre|2020-03-05|  8|      Roque Vásquez| Ativo|    65|\n",
            "| Porto Alegre|2018-05-05|  9|      Uriel Queiroz| Ativo|    54|\n",
            "| Porto Alegre|2020-09-05| 10|   Viviana Sequeira| Ativo|     0|\n",
            "+-------------+----------+---+-------------------+------+------+\n",
            "\n"
          ]
        },
        {
          "data": {
            "text/plain": [
              "StructType(List(StructField(cidade,StringType,true),StructField(data,StringType,true),StructField(id,LongType,true),StructField(nome,StringType,true),StructField(status,StringType,true),StructField(vendas,LongType,true)))"
            ]
          },
          "execution_count": 35,
          "metadata": {},
          "output_type": "execute_result"
        }
      ],
      "source": [
        "js = spark.read.format(\"json\").load(\"/content/storage/dfimportjson\")\n",
        "js.show()\n",
        "js.schema"
      ]
    },
    {
      "cell_type": "code",
      "execution_count": 37,
      "metadata": {
        "colab": {
          "base_uri": "https://localhost:8080/"
        },
        "id": "KxyjgNLkyZ41",
        "outputId": "d66722b5-57b4-49a7-d099-1fce228c71b3"
      },
      "outputs": [
        {
          "name": "stdout",
          "output_type": "stream",
          "text": [
            "+---+-------------------+------+-------------+------+----------+\n",
            "| id|               nome|status|       cidade|vendas|      data|\n",
            "+---+-------------------+------+-------------+------+----------+\n",
            "|  1|   Carminda Pestana| Ativo|  Santa Maria|    23|2020-08-11|\n",
            "|  2|    Deolinda Vilela| Ativo|Novo Hamburgo|    34|2020-03-05|\n",
            "|  3|   Emídio Dornelles| Ativo| Porto Alegre|    34|2020-02-05|\n",
            "|  4|Felisbela Dornelles| Ativo| Porto Alegre|    36|2020-02-05|\n",
            "|  5|     Graça Ornellas| Ativo| Porto Alegre|    12|2020-02-05|\n",
            "|  6|   Matilde Rebouças| Ativo| Porto Alegre|    22|2019-01-05|\n",
            "|  7|    Noêmia   Orriça| Ativo|  Santa Maria|    45|2019-10-05|\n",
            "|  8|      Roque Vásquez| Ativo| Porto Alegre|    65|2020-03-05|\n",
            "|  9|      Uriel Queiroz| Ativo| Porto Alegre|    54|2018-05-05|\n",
            "| 10|   Viviana Sequeira| Ativo| Porto Alegre|     0|2020-09-05|\n",
            "+---+-------------------+------+-------------+------+----------+\n",
            "\n"
          ]
        },
        {
          "data": {
            "text/plain": [
              "StructType(List(StructField(id,IntegerType,true),StructField(nome,StringType,true),StructField(status,StringType,true),StructField(cidade,StringType,true),StructField(vendas,IntegerType,true),StructField(data,StringType,true)))"
            ]
          },
          "execution_count": 37,
          "metadata": {},
          "output_type": "execute_result"
        }
      ],
      "source": [
        "orc = spark.read.format(\"orc\").load(\"/content/storage/dfimportorc\")\n",
        "orc.show()\n",
        "orc.schema"
      ]
    }
  ],
  "metadata": {
    "colab": {
      "collapsed_sections": [],
      "name": "dataframes01.ipynb",
      "provenance": []
    },
    "kernelspec": {
      "display_name": "Python 3",
      "name": "python3"
    },
    "language_info": {
      "name": "python"
    }
  },
  "nbformat": 4,
  "nbformat_minor": 0
}
