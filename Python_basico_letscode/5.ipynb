{
 "cells": [
  {
   "cell_type": "markdown",
   "id": "fb30971e",
   "metadata": {},
   "source": [
    "## Básico datetime"
   ]
  },
  {
   "cell_type": "code",
   "execution_count": 1,
   "id": "8ebe5ada",
   "metadata": {},
   "outputs": [
    {
     "name": "stdout",
     "output_type": "stream",
     "text": [
      "2022-07-17 2001-09-11\n"
     ]
    }
   ],
   "source": [
    "import datetime\n",
    "\n",
    "d = datetime.date(2001, 9, 11)\n",
    "tday = datetime.date.today()\n",
    "print(tday, d)"
   ]
  },
  {
   "cell_type": "code",
   "execution_count": 2,
   "id": "4f1a9407",
   "metadata": {},
   "outputs": [
    {
     "name": "stdout",
     "output_type": "stream",
     "text": [
      "2022-07-17\n"
     ]
    }
   ],
   "source": [
    "# datetime.timedelta(days=0, seconds=0, microseconds=0, milliseconds=0, minutes=0, hours=0, weeks=0)\n",
    "\n",
    "tdelta = datetime.timedelta(hours=12)\n",
    "print(tday + tdelta)\n"
   ]
  },
  {
   "cell_type": "code",
   "execution_count": 6,
   "id": "0ad71ce2",
   "metadata": {},
   "outputs": [
    {
     "name": "stdout",
     "output_type": "stream",
     "text": [
      "-12137\n"
     ]
    }
   ],
   "source": [
    "bday = datetime.date(1989, 4, 24)\n",
    "till_bday = bday - tday\n",
    "print(till_bday.days)"
   ]
  },
  {
   "cell_type": "code",
   "execution_count": 7,
   "id": "2f398b8f",
   "metadata": {},
   "outputs": [
    {
     "name": "stdout",
     "output_type": "stream",
     "text": [
      "July 17, 2022\n"
     ]
    }
   ],
   "source": [
    "dt_agora = datetime.datetime.now()\n",
    "print(dt_agora.strftime('%B %d, %Y'))"
   ]
  },
  {
   "cell_type": "code",
   "execution_count": 8,
   "id": "df821a32",
   "metadata": {},
   "outputs": [
    {
     "name": "stdout",
     "output_type": "stream",
     "text": [
      "2016-07-24 00:00:00\n"
     ]
    }
   ],
   "source": [
    "dt_str = 'July 24, 2016'\n",
    "dt = datetime.datetime.strptime(dt_str, '%B %d, %Y')\n",
    "print(dt)"
   ]
  },
  {
   "cell_type": "code",
   "execution_count": null,
   "id": "e0c760f6",
   "metadata": {},
   "outputs": [],
   "source": []
  }
 ],
 "metadata": {
  "kernelspec": {
   "display_name": "Python 3 (ipykernel)",
   "language": "python",
   "name": "python3"
  },
  "language_info": {
   "codemirror_mode": {
    "name": "ipython",
    "version": 3
   },
   "file_extension": ".py",
   "mimetype": "text/x-python",
   "name": "python",
   "nbconvert_exporter": "python",
   "pygments_lexer": "ipython3",
   "version": "3.9.7"
  }
 },
 "nbformat": 4,
 "nbformat_minor": 5
}
