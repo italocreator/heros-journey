{
 "cells": [
  {
   "cell_type": "markdown",
   "id": "d7240f6e",
   "metadata": {},
   "source": [
    "## Trabalhando com api"
   ]
  },
  {
   "cell_type": "code",
   "execution_count": 2,
   "id": "e0caf8ed",
   "metadata": {},
   "outputs": [
    {
     "name": "stdout",
     "output_type": "stream",
     "text": [
      "Requirement already satisfied: requests in c:\\users\\italo\\anaconda3\\lib\\site-packages (2.25.1)\n",
      "Requirement already satisfied: chardet<5,>=3.0.2 in c:\\users\\italo\\anaconda3\\lib\\site-packages (from requests) (4.0.0)\n",
      "Requirement already satisfied: idna<3,>=2.5 in c:\\users\\italo\\anaconda3\\lib\\site-packages (from requests) (2.10)\n",
      "Requirement already satisfied: urllib3<1.27,>=1.21.1 in c:\\users\\italo\\anaconda3\\lib\\site-packages (from requests) (1.26.7)\n",
      "Requirement already satisfied: certifi>=2017.4.17 in c:\\users\\italo\\anaconda3\\lib\\site-packages (from requests) (2021.10.8)\n"
     ]
    }
   ],
   "source": [
    "!pip install requests"
   ]
  },
  {
   "cell_type": "code",
   "execution_count": 1,
   "id": "68719d93",
   "metadata": {},
   "outputs": [],
   "source": [
    "import requests"
   ]
  },
  {
   "cell_type": "code",
   "execution_count": 6,
   "id": "921b4d0b",
   "metadata": {},
   "outputs": [],
   "source": [
    "url = 'https://v6.exchangerate-api.com/v6/8e370022d6a91f43a6cdfa0c/latest/USD'"
   ]
  },
  {
   "cell_type": "code",
   "execution_count": 7,
   "id": "cb9c64d0",
   "metadata": {},
   "outputs": [
    {
     "name": "stdout",
     "output_type": "stream",
     "text": [
      "200\n"
     ]
    }
   ],
   "source": [
    "req = requests.get(url)\n",
    "print(req.status_code)"
   ]
  },
  {
   "cell_type": "code",
   "execution_count": 10,
   "id": "c228856d",
   "metadata": {},
   "outputs": [
    {
     "name": "stdout",
     "output_type": "stream",
     "text": [
      "{'result': 'success', 'documentation': 'https://www.exchangerate-api.com/docs', 'terms_of_use': 'https://www.exchangerate-api.com/terms', 'time_last_update_unix': 1658016002, 'time_last_update_utc': 'Sun, 17 Jul 2022 00:00:02 +0000', 'time_next_update_unix': 1658102402, 'time_next_update_utc': 'Mon, 18 Jul 2022 00:00:02 +0000', 'base_code': 'USD', 'conversion_rates': {'USD': 1, 'AED': 3.6725, 'AFN': 87.9897, 'ALL': 116.9156, 'AMD': 413.3227, 'ANG': 1.79, 'AOA': 431.4219, 'ARS': 127.5711, 'AUD': 1.4762, 'AWG': 1.79, 'AZN': 1.6932, 'BAM': 1.9426, 'BBD': 2.0, 'BDT': 93.1628, 'BGN': 1.9427, 'BHD': 0.376, 'BIF': 2032.0309, 'BMD': 1.0, 'BND': 1.3978, 'BOB': 6.8633, 'BRL': 5.4199, 'BSD': 1.0, 'BTN': 79.8199, 'BWP': 12.8324, 'BYN': 2.823, 'BZD': 2.0, 'CAD': 1.305, 'CDF': 1988.6057, 'CHF': 0.9782, 'CLP': 1047.425, 'CNY': 6.7686, 'COP': 4573.0573, 'CRC': 686.8741, 'CUP': 24.0, 'CVE': 109.5198, 'CZK': 24.281, 'DJF': 177.721, 'DKK': 7.41, 'DOP': 54.7252, 'DZD': 147.0795, 'EGP': 18.8746, 'ERN': 15.0, 'ETB': 51.8192, 'EUR': 0.9932, 'FJD': 2.2271, 'FKP': 0.8452, 'FOK': 7.41, 'GBP': 0.8452, 'GEL': 2.8469, 'GGP': 0.8452, 'GHS': 8.3242, 'GIP': 0.8452, 'GMD': 53.9357, 'GNF': 8643.2884, 'GTQ': 7.7432, 'GYD': 208.4165, 'HKD': 7.8518, 'HNL': 24.5589, 'HRK': 7.4836, 'HTG': 114.4866, 'HUF': 398.6438, 'IDR': 14976.7866, 'ILS': 3.4749, 'IMP': 0.8452, 'INR': 79.8209, 'IQD': 1454.06, 'IRR': 42056.7004, 'ISK': 138.3686, 'JEP': 0.8452, 'JMD': 151.4748, 'JOD': 0.709, 'JPY': 138.78, 'KES': 117.9526, 'KGS': 81.3321, 'KHR': 4065.7093, 'KID': 1.4762, 'KMF': 488.643, 'KRW': 1321.7446, 'KWD': 0.2996, 'KYD': 0.8333, 'KZT': 480.8824, 'LAK': 16868.6002, 'LBP': 1507.5, 'LKR': 356.0525, 'LRD': 152.3277, 'LSL': 17.0698, 'LYD': 4.8552, 'MAD': 9.9367, 'MDL': 19.3046, 'MGA': 4084.1272, 'MKD': 61.1373, 'MMK': 1834.449, 'MNT': 3130.7286, 'MOP': 8.0873, 'MRU': 36.7687, 'MUR': 44.7852, 'MVR': 15.443, 'MWK': 1033.6225, 'MXN': 20.6318, 'MYR': 4.4398, 'MZN': 64.4837, 'NAD': 17.0698, 'NGN': 413.4387, 'NIO': 35.86, 'NOK': 10.1891, 'NPR': 127.7119, 'NZD': 1.6266, 'OMR': 0.3845, 'PAB': 1.0, 'PEN': 3.9116, 'PGK': 3.517, 'PHP': 56.3397, 'PKR': 209.4856, 'PLN': 4.7442, 'PYG': 6855.2462, 'QAR': 3.64, 'RON': 4.8888, 'RSD': 116.5282, 'RUB': 57.7811, 'RWF': 1058.9331, 'SAR': 3.75, 'SBD': 8.0297, 'SCR': 13.0412, 'SDG': 461.6883, 'SEK': 10.5059, 'SGD': 1.3978, 'SHP': 0.8452, 'SLE': 13.637, 'SLL': 13636.9704, 'SOS': 576.2883, 'SRD': 22.3936, 'SSP': 544.883, 'STN': 24.3344, 'SYP': 2526.6716, 'SZL': 17.0698, 'THB': 36.6993, 'TJS': 10.4715, 'TMT': 3.4981, 'TND': 2.8755, 'TOP': 2.3438, 'TRY': 17.4168, 'TTD': 6.7612, 'TVD': 1.4762, 'TWD': 29.8712, 'TZS': 2320.8657, 'UAH': 31.0508, 'UGX': 3768.5019, 'UYU': 40.3063, 'UZS': 10908.3372, 'VES': 5.699, 'VND': 23432.6566, 'VUV': 119.162, 'WST': 2.7261, 'XAF': 651.524, 'XCD': 2.7, 'XDR': 0.7635, 'XOF': 651.524, 'XPF': 118.5255, 'YER': 249.9997, 'ZAR': 17.0702, 'ZMW': 16.4457, 'ZWL': 395.1049}}\n"
     ]
    }
   ],
   "source": [
    "dados = req.json()\n",
    "print(dados)"
   ]
  },
  {
   "cell_type": "code",
   "execution_count": 9,
   "id": "f44de3ea",
   "metadata": {},
   "outputs": [
    {
     "name": "stdout",
     "output_type": "stream",
     "text": [
      "Informe o valor em R$ a ser convertido\n",
      "150\n",
      "R$ 150.0 em dólar valem US$ 27.68\n"
     ]
    }
   ],
   "source": [
    "valor_reais = float(input('Informe o valor em R$ a ser convertido\\n'))\n",
    "cotacao = dados['conversion_rates']['BRL']\n",
    "print(f'R$ {valor_reais} em dólar valem US$ {(valor_reais/cotacao):.2f}')"
   ]
  },
  {
   "cell_type": "markdown",
   "id": "bb01e34d",
   "metadata": {},
   "source": [
    "## Links que contém lista de apis públicas"
   ]
  },
  {
   "cell_type": "code",
   "execution_count": null,
   "id": "adf00bf2",
   "metadata": {},
   "outputs": [],
   "source": [
    "\"\"\"\n",
    "https://github.com/n0shake/public-apis\n",
    "\n",
    "https://github.com/public-apis/public-apis\n",
    "\n",
    "https://any-api.com/\n",
    "\n",
    "http://www.transparencia.gov.br/swagger-ui.html\n",
    "\n",
    "http://www.dados.gov.br/\n",
    "\n",
    "https://brasil.io/home/\n",
    "\"\"\""
   ]
  }
 ],
 "metadata": {
  "kernelspec": {
   "display_name": "Python 3 (ipykernel)",
   "language": "python",
   "name": "python3"
  },
  "language_info": {
   "codemirror_mode": {
    "name": "ipython",
    "version": 3
   },
   "file_extension": ".py",
   "mimetype": "text/x-python",
   "name": "python",
   "nbconvert_exporter": "python",
   "pygments_lexer": "ipython3",
   "version": "3.9.7"
  }
 },
 "nbformat": 4,
 "nbformat_minor": 5
}
