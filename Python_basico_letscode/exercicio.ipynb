{
 "cells": [
  {
   "cell_type": "code",
   "execution_count": 1,
   "id": "ab849fdd",
   "metadata": {},
   "outputs": [],
   "source": [
    "import csv"
   ]
  },
  {
   "cell_type": "code",
   "execution_count": 2,
   "id": "9070780b",
   "metadata": {},
   "outputs": [
    {
     "name": "stdout",
     "output_type": "stream",
     "text": [
      "O que deseja fazer?\n",
      "1 - Cadastrar\n",
      "0 - Sair\n",
      "1\n",
      "Qual seu nome? Italo\n",
      "Qual seu sobrenome? Souza\n",
      "O que deseja fazer?\n",
      "1 - Cadastrar\n",
      "0 - Sair\n",
      "1\n",
      "Qual seu nome? Exemplo\n",
      "Qual seu sobrenome? Algum\n",
      "O que deseja fazer?\n",
      "1 - Cadastrar\n",
      "0 - Sair\n",
      "0\n",
      "[['Italo', 'Souza'], ['Exemplo', 'Algum']]\n",
      "['nome', 'sobrenome']\n",
      "['Italo', 'Souza']\n",
      "['Exemplo', 'Algum']\n"
     ]
    }
   ],
   "source": [
    "header = ['nome', 'sobrenome']\n",
    "dados = []\n",
    "opt = input('O que deseja fazer?\\n1 - Cadastrar\\n0 - Sair\\n')\n",
    "while opt != '0':\n",
    "    nome = input('Qual seu nome? ')\n",
    "    sobrenome = input('Qual seu sobrenome? ')\n",
    "    dados.append([nome, sobrenome])\n",
    "    opt = input('O que deseja fazer?\\n1 - Cadastrar\\n0 - Sair\\n')\n",
    "    \n",
    "print(dados)\n",
    "\n",
    "with open('users.csv', 'w', newline='') as arquivo_csv:\n",
    "    writer = csv.writer(arquivo_csv)\n",
    "    writer.writerow(header)\n",
    "    writer.writerows(dados)\n",
    "    \n",
    "with open('users.csv', 'r', encoding='utf-8') as csv_file:\n",
    "    csv_reader = csv.reader(csv_file, delimiter=',')\n",
    "    for row in csv_reader:\n",
    "        print(row)"
   ]
  },
  {
   "cell_type": "code",
   "execution_count": null,
   "id": "5f579679",
   "metadata": {},
   "outputs": [],
   "source": []
  }
 ],
 "metadata": {
  "kernelspec": {
   "display_name": "Python 3 (ipykernel)",
   "language": "python",
   "name": "python3"
  },
  "language_info": {
   "codemirror_mode": {
    "name": "ipython",
    "version": 3
   },
   "file_extension": ".py",
   "mimetype": "text/x-python",
   "name": "python",
   "nbconvert_exporter": "python",
   "pygments_lexer": "ipython3",
   "version": "3.9.7"
  }
 },
 "nbformat": 4,
 "nbformat_minor": 5
}
